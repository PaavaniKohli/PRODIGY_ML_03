{
  "nbformat": 4,
  "nbformat_minor": 0,
  "metadata": {
    "colab": {
      "provenance": [],
      "mount_file_id": "1ea-SUM7NtLWcbNla5HlD3zO4nykGu43m",
      "authorship_tag": "ABX9TyOWOeMsa+CVFJbEjJjTm+wk",
      "include_colab_link": true
    },
    "kernelspec": {
      "name": "python3",
      "display_name": "Python 3"
    },
    "language_info": {
      "name": "python"
    }
  },
  "cells": [
    {
      "cell_type": "markdown",
      "metadata": {
        "id": "view-in-github",
        "colab_type": "text"
      },
      "source": [
        "<a href=\"https://colab.research.google.com/github/PaavaniKohli/PRODIGY_ML_03/blob/main/Cats_Dogs_Paavani.ipynb\" target=\"_parent\"><img src=\"https://colab.research.google.com/assets/colab-badge.svg\" alt=\"Open In Colab\"/></a>"
      ]
    },
    {
      "cell_type": "markdown",
      "source": [
        " # Implement a support vector machine (svm) to classify images of cats and dogs from a kaggle data set"
      ],
      "metadata": {
        "id": "0XgfCmtTY9Fb"
      }
    },
    {
      "cell_type": "code",
      "execution_count": 12,
      "metadata": {
        "colab": {
          "base_uri": "https://localhost:8080/"
        },
        "id": "klaXD7jg1CS6",
        "outputId": "3e57af23-5db7-4cfa-a7d2-b336851c4623"
      },
      "outputs": [
        {
          "output_type": "stream",
          "name": "stdout",
          "text": [
            "Requirement already satisfied: numpy in /usr/local/lib/python3.10/dist-packages (1.23.5)\n",
            "Requirement already satisfied: scikit-learn in /usr/local/lib/python3.10/dist-packages (1.2.2)\n",
            "Requirement already satisfied: opencv-python in /usr/local/lib/python3.10/dist-packages (4.8.0.76)\n",
            "Requirement already satisfied: scipy>=1.3.2 in /usr/local/lib/python3.10/dist-packages (from scikit-learn) (1.11.4)\n",
            "Requirement already satisfied: joblib>=1.1.1 in /usr/local/lib/python3.10/dist-packages (from scikit-learn) (1.3.2)\n",
            "Requirement already satisfied: threadpoolctl>=2.0.0 in /usr/local/lib/python3.10/dist-packages (from scikit-learn) (3.2.0)\n",
            "Best Parameters: {'C': 10, 'kernel': 'rbf'}\n",
            "Accuracy: 0.8316970546984572\n",
            "              precision    recall  f1-score   support\n",
            "\n",
            "         cat       0.86      0.94      0.90      1116\n",
            "         dog       0.68      0.43      0.52       310\n",
            "\n",
            "    accuracy                           0.83      1426\n",
            "   macro avg       0.77      0.69      0.71      1426\n",
            "weighted avg       0.82      0.83      0.82      1426\n",
            "\n"
          ]
        }
      ],
      "source": [
        "!pip install numpy scikit-learn opencv-python\n",
        "import os\n",
        "from skimage.feature import hog\n",
        "import cv2\n",
        "import numpy as np\n",
        "from sklearn.model_selection import train_test_split, GridSearchCV\n",
        "from sklearn.svm import SVC\n",
        "from sklearn.metrics import accuracy_score,classification_report\n",
        "\n",
        "# Define the path to the dataset\n",
        "dataset_path = '/content/drive/MyDrive/train'\n",
        "\n",
        "# Read images and labels\n",
        "images = []\n",
        "labels = []\n",
        "\n",
        "for category in os.listdir(dataset_path):\n",
        "    category_path = os.path.join(dataset_path, category)\n",
        "\n",
        "      # Check if the category_path is a directory\n",
        "    if not os.path.isdir(category_path):\n",
        "        continue\n",
        "\n",
        "    for file_name in os.listdir(category_path):\n",
        "        image_path = os.path.join(category_path, file_name)\n",
        "\n",
        "        # Check if the image_path is a file\n",
        "        if not os.path.isfile(image_path):\n",
        "            continue\n",
        "\n",
        "        image = cv2.imread(image_path)\n",
        "        image = cv2.cvtColor(image, cv2.COLOR_BGR2GRAY)  # Convert to grayscale\n",
        "        image = cv2.resize(image, (64, 64))  # Resize for consistency\n",
        "\n",
        "        # Extract HOG features\n",
        "        features, hog_image = hog(image, orientations=9, pixels_per_cell=(8, 8), cells_per_block=(2, 2), visualize=True)\n",
        "\n",
        "        images.append(features)  # Use HOG features instead of flattened image\n",
        "        labels.append(category)\n",
        "\n",
        "# Convert lists to NumPy arrays\n",
        "X = np.array(images)\n",
        "y = np.array(labels)\n",
        "\n",
        "# Normalize pixel values to [0, 1]\n",
        "X = X / 255.0\n",
        "\n",
        "# Flatten images for SVM input\n",
        "X_flatten = X.reshape(X.shape[0], -1)\n",
        "\n",
        "# Split the dataset into training and testing sets\n",
        "X_train, X_test, y_train, y_test = train_test_split(X_flatten, y, test_size=0.2, random_state=42)\n",
        "\n",
        "# Define the parameter grid for grid search\n",
        "param_grid = {\n",
        "    'C': [0.1, 1, 10],\n",
        "    'kernel': ['linear', 'rbf', 'poly'],\n",
        "}\n",
        "\n",
        "# Create an SVM classifier\n",
        "svm_model = SVC(random_state=42)\n",
        "\n",
        "# Perform grid search\n",
        "grid_search = GridSearchCV(svm_model, param_grid, cv=3, n_jobs=-1)\n",
        "grid_search.fit(X_train, y_train)\n",
        "\n",
        "# Print the best parameters found by grid search\n",
        "print(\"Best Parameters:\", grid_search.best_params_)\n",
        "\n",
        "# Make predictions on the test set using the best model\n",
        "y_pred = grid_search.predict(X_test)\n",
        "\n",
        "# Evaluate the model\n",
        "accuracy = accuracy_score(y_test, y_pred)\n",
        "print(f'Accuracy: {accuracy}')\n",
        "\n",
        "print(classification_report(y_test, y_pred, target_names=['cat', 'dog']))\n"
      ]
    }
  ]
}